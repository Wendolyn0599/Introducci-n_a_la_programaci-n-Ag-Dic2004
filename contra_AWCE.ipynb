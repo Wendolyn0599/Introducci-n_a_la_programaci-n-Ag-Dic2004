{
  "nbformat": 4,
  "nbformat_minor": 0,
  "metadata": {
    "colab": {
      "provenance": []
    },
    "kernelspec": {
      "name": "python3",
      "display_name": "Python 3"
    },
    "language_info": {
      "name": "python"
    }
  },
  "cells": [
    {
      "cell_type": "code",
      "execution_count": null,
      "metadata": {
        "colab": {
          "base_uri": "https://localhost:8080/"
        },
        "id": "FYmUSZchiYWZ",
        "outputId": "522bb139-7844-46cd-d433-b1ea1cb845ff"
      },
      "outputs": [
        {
          "output_type": "stream",
          "name": "stdout",
          "text": [
            "Hola mundo\n",
            "Hola mundo\n",
            "holamundo\n",
            "Hola \n",
            "mundo\n",
            "¿Cómo te llamas?Wen\n",
            "HolaWen\n",
            "Hola Wen\n"
          ]
        }
      ],
      "source": [
        "#La función print permite imprimer mensajes\n",
        "print(\"Hola mundo\")#si es un texto se debe escribir entre comillas\n",
        "texto=\"Hola mundo\"\n",
        "print(texto) #si es una variable se pone el nombre de la variable SIN comillas\n",
        "#Tambien se pueden concatenar mensajes\n",
        "print(\"hola\" + \"mundo\")\n",
        "print(\"Hola \\n\"+\"mundo\") #\\n permite poner saltos de linea\n",
        "nombre= input(\"¿Cómo te llamas?\") #La función input permite pedir información al usuario y almacenarla en una veriable\n",
        "print(\"Hola \"+ nombre)#Imprimir mensaje + variable\n",
        "print(f\"Hola {nombre}\")# Otra forma de imrimir variables junto con un mensaje\n",
        "\n"
      ]
    },
    {
      "cell_type": "markdown",
      "source": [
        "Hacer un programa que pida al usuario el nombre de su mascota, nombre de su ciudad favorita y genere un número aleatorio.\n",
        "Con base en esa información generar una contraseña"
      ],
      "metadata": {
        "id": "MMvUkdmtlLdY"
      }
    },
    {
      "cell_type": "code",
      "source": [
        "print(\"¡Hola!, vamos a generar una contraseña segura\")#Imprime mensaje de bienvenida\n",
        "mascota=input(\"¿Cómo se llama tu mascota\")#Solicita el nombre de la mascota\n",
        "ciudad=input(\"¿Cuál es tu ciudad favorita?\")#Solicita el nombre de la ciudad\n",
        "import random    #Se requiere importar la paqueteria random\n",
        "#Genera una variable en la cual se guarda un numero aleatorio que se genera con la funcion random.randint\n",
        "#los numeros entre parentesis indican el rango\n",
        "aleatorio=random.randint(0,100)\n",
        "aleatorio_texto=str(aleatorio) #la función str convierte el número en un dato de tipo texto\n",
        "contra=mascota+ciudad+aleatorio_texto #Concatenar los valores de las 3 variables(mascota, ciudad y numero aleatorio) y almacenarlos en una variable nueva\n",
        "print(f\"Tu nueva contraseña es: {contra}\")#Imprimir un mensaje con la contraseña generada\n"
      ],
      "metadata": {
        "id": "dRDdi1lFlBB5",
        "colab": {
          "base_uri": "https://localhost:8080/"
        },
        "outputId": "58765daa-5156-4249-c824-dd74d9df839e"
      },
      "execution_count": 10,
      "outputs": [
        {
          "output_type": "stream",
          "name": "stdout",
          "text": [
            "¡Hola!, vamos a generar una contraseña segura\n",
            "¿Cómo se llama tu mascotaLucas\n",
            "¿Cuál es tu ciudad favorita?Pachuca\n",
            "Tu nueva contraseña es: LucasPachuca4\n"
          ]
        }
      ]
    }
  ]
}