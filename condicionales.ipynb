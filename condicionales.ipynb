{
  "nbformat": 4,
  "nbformat_minor": 0,
  "metadata": {
    "colab": {
      "provenance": []
    },
    "kernelspec": {
      "name": "python3",
      "display_name": "Python 3"
    },
    "language_info": {
      "name": "python"
    }
  },
  "cells": [
    {
      "cell_type": "markdown",
      "source": [
        "If condicion:\n",
        "  print(\"si se cumple la condición imprimir: se acepta\")\n",
        "else:\n",
        "  print(\"no se cumple la condición, imprimir: no se acepta\")"
      ],
      "metadata": {
        "id": "9eCnQF9mPhk5"
      }
    },
    {
      "cell_type": "code",
      "source": [
        "altura= 1.20\n",
        "if altura > 1.20:\n",
        "  print(\"Te puedes subir al juego\")\n",
        "else:\n",
        "  print(\"No te puedes subir al juego\")\n",
        "  print(\"Ve a otro juego\")"
      ],
      "metadata": {
        "colab": {
          "base_uri": "https://localhost:8080/"
        },
        "id": "_cubeyovQDOX",
        "outputId": "352388c1-ce69-4bcb-bfdb-c84fc900d637"
      },
      "execution_count": null,
      "outputs": [
        {
          "output_type": "stream",
          "name": "stdout",
          "text": [
            "No te puedes subir al juego\n",
            "Ve a otro juego\n"
          ]
        }
      ]
    },
    {
      "cell_type": "code",
      "source": [
        "print(\"Te invito un helado,¿cuál es tu sabor favorito?\")\n",
        "print(\"1-vainilla \\n 2-cafe \\n 3-chocolate \")\n",
        "print(\"escribe el numero de la opción que quieres\")\n",
        "opcion=int(input(\"número:\"))\n",
        "print(f\"La opción que elegiste es: {opcion}\")# Función f-string, permite imprimir variables\n",
        "if opcion==1:\n",
        "  print(\"Escogiste vainilla,¡perfecto!\")\n",
        "elif opcion==2:\n",
        "  opcion2= input(\"Escogiste café, lo siento, ya no tengo. Pero hay frappé y pastel de café \\n ¿Qué opción eliges?\")\n",
        "  if opcion2==\"frappé\":\n",
        "    print(\"Aquí tienes tu frappé\")\n",
        "  elif opcion2==\"pastel\" :\n",
        "      print(\"Aquí tienes\")\n",
        "  else:\n",
        "    print(\"Lo sientp, no tengo esa opción\")\n",
        "elif opcion==3:\n",
        "  print(\"en un momento te lo llevo\")\n",
        "else:\n",
        "  print(\"no corresponde a ninguna de las opciones del menu, lo siento\")"
      ],
      "metadata": {
        "colab": {
          "base_uri": "https://localhost:8080/"
        },
        "id": "t977M2NSR2vZ",
        "outputId": "1bfc2303-bb58-4846-a636-31164a16b5d7"
      },
      "execution_count": null,
      "outputs": [
        {
          "output_type": "stream",
          "name": "stdout",
          "text": [
            "Te invito un helado,¿cuál es tu sabor favorito?\n",
            "1-vainilla \n",
            " 2-cafe \n",
            " 3-chocolate \n",
            "escribe el numero de la opción que quieres\n",
            "número:2\n",
            "La opción que elegiste es: 2\n",
            "Escogiste café, lo siento, ya no tengo. Pero hay frappé y pastel de café \n",
            " ¿Qué opción eliges?pastel\n",
            "Aquí tienes\n"
          ]
        }
      ]
    },
    {
      "cell_type": "code",
      "source": [
        "#Actividad 2, clase 23/09/24\". Crear un codigo en donde inventes una historia a partir de un menú de opciones utilizando condicionales\n",
        "empezar=input(\"Hola! ¿Estás listo para la aventura?, escribe SI o NO: \\n\")\n",
        "if empezar==\"SI\" :\n",
        "  print(\"En esta aventura mítica, te enfrentas a un reto ancestral: llegar al Castillo del Dragón Dorado y derrotarlo para reclamar su oro\")\n",
        "  print(\"Comencemos...\\n Elige un personaje, cada uno tiene una  habilidad única que te ayudara a obtener el tesoro, \\n pero deberás elegir sabiamente o te costará la vida:\")\n",
        "  print(\"1-Sir Galahad...¡El guerrero estratega!\")\n",
        "  print(\"2-Morgana...¡La hechicera oscura!\")\n",
        "  personaje= input(\"Escribe el número que corresponde a tu personaje:  \")\n",
        "  if personaje==\"1\":\n",
        "    print(\"Has elegido a Sir Galahad... \\n su habilidad es fuerza sobrehumana, \\n cuenta con una armadura y escudo que lo protegen de cualquier ataque.\")\n",
        "  elif personaje==\"2\":\n",
        "    print(\"Has elegido a Morgana...\\n puede inmovilizar temporalmente a los enemigos con una maldición para avanzar sin ser detectada. \")\n",
        "  else:\n",
        "    print(\"Esa opción no existe\")\n",
        "  print(\"\\n Nivel 1.CAMINO HACIA EL CASTILLO\")\n",
        "  print(\"Te encuentras frente a dos caminos que llevan al castillo, escoge sabiamente:\")\n",
        "  print(\"1-Un sendero oscuro que atraviesa un denso bosque lleno de creaturas misteriosas. \\n 2-Un empinado camino de piedras que sube por una montaña brumosa.\")\n",
        "  camino= input(\"Escribe el número que corresponde al camino que tomarás:  \")\n",
        "  if camino==\"1\":\n",
        "    print(\"¡Has elegido el camino correcto!\\n Fue dificil enfrentarse a todas esas creaturas, \\n pero gracias a tus habilidades los derrotaste y ahora estas en la entrada al castillo\")\n",
        "    print(\"\\n Nivel 2. ENTRADA SIGILOSA\")\n",
        "    print(\"Ya estás en las murallas del castillo, pero está fuertemente custodiado.\")\n",
        "    print(\"1-Enfrentar a los guardias y entrar por la puerta principal. \\n 2-Escalar las murallas sigilosamente, ocultándote en las sombras. \")\n",
        "    entrada= input(\"Escribe el número que corresponde a cómo entrarás:  \")\n",
        "    if entrada==\"1\":\n",
        "      print(\"Los guardias te han eliminado...JUEGO TERMINADO\")\n",
        "    elif entrada==\"2\":\n",
        "      print(\"¡Felicidades! Pudiste avanzar sin ser detectado\")\n",
        "      print(\"\\n Nivel 3.BATALLA FINAL\")\n",
        "      print(\"En la cámara del tesoro, te enfrentas al Dragón Dorado. Debes elegir sabiamente tu arma o técnica de ataque:\")\n",
        "      if personaje==\"1\":\n",
        "        print(\"Sir Galahad puede usar los siguientes ataques:\")\n",
        "        print(\"1-Enfrentar al dragón cuerpo a cuerpo con tu fuerza.  \\n 2-Destruir las columnas del castillo para que el techo caiga sobre el dragón.\")\n",
        "        ataque=input(\"Escribe el número que corresponde al ataque que usarás:  \")\n",
        "      elif personaje==\"2\":\n",
        "        print(\"Morgana puede usar los siguientes ataques:\")\n",
        "        print(\"1-Lanzar un conjuro de hielo para congelarlo.  \\n 2-Usar un hechizo de petrificación para inmovilizar al dragón temporalmente y robar el tesoro.\")\n",
        "        ataque=input(\"Escribe el número que corresponde al ataque que usarás:  \")\n",
        "      if ataque==\"1\":\n",
        "          print(\"¡Tu ataque no fue suficiente ante las llamas del dragon!...JUEGO TERMINADO\")\n",
        "      elif ataque==\"2\":\n",
        "          print(\"¡Venciste al dragon!...¡EL TESORO ES TUYO!\")\n",
        "          print(\"¡Tu nombre será conocido como una leyenda!\")\n",
        "      else:\n",
        "          print(\"Esa opción no existe\")\n",
        "  elif camino==\"2\":\n",
        "    print(\"¡Oh, no! \\n Resbalaste con una roca y la caída te costo la vida... \\n JUEGO TERMINADO\")\n",
        "  else:\n",
        "    print(\"Esa opción no existe\")\n",
        "\n",
        "else:\n",
        "  print(\"Que lastima... nos vemos en la proxima\")\n"
      ],
      "metadata": {
        "colab": {
          "base_uri": "https://localhost:8080/"
        },
        "id": "JxKnFUIUePvi",
        "outputId": "5591c15a-387c-4e52-ed4d-65a6842591e7"
      },
      "execution_count": null,
      "outputs": [
        {
          "output_type": "stream",
          "name": "stdout",
          "text": [
            "Hola! ¿Estás listo para la aventura?, escribe SI o NO: \n",
            "SI\n",
            "En esta aventura mítica, te enfrentas a un reto ancestral: llegar al Castillo del Dragón Dorado y derrotarlo para reclamar su oro\n",
            "Comencemos...\n",
            " Elige un personaje, cada uno tiene una  habilidad única que te ayudara a obtener el tesoro, \n",
            " pero deberás elegir sabiamente o te costará la vida:\n",
            "1-Sir Galahad...¡El guerrero estratega!\n",
            "2-Morgana...¡La hechicera oscura!\n",
            "Escribe el número que corresponde a tu personaje:  1\n",
            "Has elegido a Sir Galahad... \n",
            " su habilidad es fuerza sobrehumana, \n",
            " cuenta con una armadura y escudo que lo protegen de cualquier ataque.\n",
            "\n",
            " Nivel 1.CAMINO HACIA EL CASTILLO\n",
            "Te encuentras frente a dos caminos que llevan al castillo, escoge sabiamente:\n",
            "1-Un sendero oscuro que atraviesa un denso bosque lleno de creaturas misteriosas. \n",
            " 2-Un empinado camino de piedras que sube por una montaña brumosa.\n",
            "Escribe el número que corresponde al camino que tomarás:  1\n",
            "¡Has elegido el camino correcto!\n",
            " Fue dificil enfrentarse a todas esas creaturas, \n",
            " pero gracias a tus habilidades los derrotaste y ahora estas en la entrada al castillo\n",
            "\n",
            " Nivel 2. ENTRADA SIGILOSA\n",
            "Ya estás en las murallas del castillo, pero está fuertemente custodiado.\n",
            "1-Enfrentar a los guardias y entrar por la puerta principal. \n",
            " 2-Escalar las murallas sigilosamente, ocultándote en las sombras. \n",
            "Escribe el número que corresponde a cómo entrarás:  2\n",
            "¡Felicidades! Pudiste avanzar sin ser detectado\n",
            "\n",
            " Nivel 3.BATALLA FINAL\n",
            "En la cámara del tesoro, te enfrentas al Dragón Dorado. Debes elegir sabiamente tu arma o técnica de ataque:\n",
            "Sir Galahad puede usar los siguientes ataques:\n",
            "1-Enfrentar al dragón cuerpo a cuerpo con tu fuerza.  \n",
            " 2-Destruir las columnas del castillo para que el techo caiga sobre el dragón.\n",
            "Escribe el número que corresponde al ataque que usarás:  2\n",
            "¡Venciste al dragon!...¡EL TESORO ES TUYO!\n",
            "¡Tu nombre será conocido como una leyenda!\n"
          ]
        }
      ]
    }
  ]
}