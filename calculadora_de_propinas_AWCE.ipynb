{
  "nbformat": 4,
  "nbformat_minor": 0,
  "metadata": {
    "colab": {
      "provenance": []
    },
    "kernelspec": {
      "name": "python3",
      "display_name": "Python 3"
    },
    "language_info": {
      "name": "python"
    }
  },
  "cells": [
    {
      "cell_type": "markdown",
      "source": [
        "** CALCULADORA DE PROPINAS**\n",
        "\n",
        "Explica brevemente qué es la calculadora de propinas y su utilidad en situaciones como salir a cenar o pedir servicio:\n",
        "Una calculadora de propinas es una herramienta que ayuda a calcular el monto adecuado a pagar por algun servicio o producto. Evita hacer cálculos manuales y se asegura de que la cantitad a pagar sea justa considerando la propina y la cantidad de personas que comparten la cuenta. Unicamente se necesita saber el monto, el porcentaje de propina deseado y entre cuantos se paga."
      ],
      "metadata": {
        "id": "uvRaA3PmQOHG"
      }
    },
    {
      "cell_type": "code",
      "execution_count": 4,
      "metadata": {
        "colab": {
          "base_uri": "https://localhost:8080/"
        },
        "id": "H-gv7b5OqrMD",
        "outputId": "916a5173-cf4c-459c-e598-fdeafc3f17b0"
      },
      "outputs": [
        {
          "output_type": "stream",
          "name": "stdout",
          "text": [
            "Bienvenido a tu calcula dora de propinas \n",
            "\n",
            "Introduce el monto de tu cuenta: \n",
            " 100\n",
            "¿Qué porcentaje desea dejar de propina? \n",
            " a) 10  \n",
            " b) 15 \n",
            " c) 20 \n",
            "\n",
            "Escribe la letra que corresponde:\n",
            "20\n",
            "¿Desea dividir la cuenta? \n",
            "sI\n",
            "¿Cuántas personas son? \n",
            "2\n",
            "A cada uno de toca pagar $60.0\n",
            "El total a pagar es de $120.0\n",
            "Se incluye propina de $20.0\n"
          ]
        }
      ],
      "source": [
        "#Imprimir mensaje de bienvenida\n",
        "print(\"Bienvenido a tu calculadora de propinas \\n\")\n",
        "#La función input solicita al usuario la cantidad a pagar y lo guarda en una variable llamada cuenta\n",
        "#la función float() conviente el texto introducido en un dato de tipo decimal\n",
        "cuenta=float(input(\"Introduce el monto de tu cuenta: \\n \"))\n",
        "#Pregunta al usuario el porcentaje de propina deseado y lo guarda en la variable opcion\n",
        "print(\"¿Qué porcentaje desea dejar de propina? \\n a) 10  \\n b) 15 \\n c) 20 \\n\")\n",
        "opcion=input(\"Escribe la letra que corresponde:\\n\")\n",
        "#El usuario puede dar su respuesta indicando la letra correspondiente, pero no sabemos\n",
        "#si lo escribira con mayuscula o minuscula, por eso se usa la función lower() para que\n",
        "#independientemente de como lo escriba, todo se guarde en minuscula\n",
        "opcion=opcion.lower()\n",
        "\n",
        "#Los condicionales if y elif evaluan cuál de las 3 opciones eligio el usuario.\n",
        "#Es posible que el usuario introdusca la letra correspondiente al porcentaje de propina\n",
        "#que desea dejar o lo escriba con número, por eso se utiliza or para tomar en cuenta ambas posibilidades.\n",
        "#Dependiendo del porcentaje elegido, hace el cálculo de la propina y lo guarda en la variable propina.\n",
        "if opcion ==\"a\" or opcion==\"10\":\n",
        "  propina=cuenta*.10\n",
        "elif opcion ==\"b\" or opcion==\"15\":\n",
        "  propina=cuenta*.15\n",
        "elif opcion ==\"c\" or opcion==\"20\":\n",
        "  propina=cuenta*.20\n",
        "else:                      #En caso de que el usuario conteste algo que no está entre las opciones,\n",
        "  print(\"Opción no valida\")#se le informa que esa opción no es valida\n",
        "\n",
        "#Teniendo el monto de la cuenta y la propina, hace la suma de ambos para determinar el total a pagar\n",
        "total = cuenta + propina\n",
        "\n",
        "#Posteriormente, pregunta si la cuenta sera dividida y lo guarda en la variable respuesta con la función input\n",
        "respuesta=input(\"¿Desea dividir la cuenta? \\n\")\n",
        "#La respuesta la pasa minusculas con la función lower(), así no habrá problama independientemente de como se haya escrito\n",
        "dividir_cuenta=respuesta.lower()\n",
        "#En caso de divider la cuenta, pregunta entre cuantos y la función int convierte el input en un dato de tipo entero\n",
        "if dividir_cuenta==\"si\":\n",
        "  personas=int(input(\"¿Cuántas personas son? \\n\"))\n",
        "  por_persona=total/personas #Calcula la cantidad que le toca pagar a cada quien\n",
        "#La función roun() permite redondear el resultados, en los parentesis se indica que variable se va a convertir,\n",
        "#el numero despues de la coma especifica a cuántos dígitos\n",
        "  por_persona_red= round(por_persona, 2)\n",
        "  print(f\"A cada uno de toca pagar ${por_persona_red}\") #Imprime el monto que le toca a cada quien, una vez que se ha recdondeado\n",
        "total_red=round(total,2)#Redondear el total de la cuenta a dos dígitos\n",
        "propina_red=round(propina, 2)#Redondear la propina a dos dígitos\n",
        "print(f\"El total a pagar es de ${total_red}\")#Imprimir el total\n",
        "print(f\"Se incluye propina de ${propina_red}\")#Imprimir la propina"
      ]
    }
  ]
}